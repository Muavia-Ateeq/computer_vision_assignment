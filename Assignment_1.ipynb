{
  "nbformat": 4,
  "nbformat_minor": 0,
  "metadata": {
    "colab": {
      "provenance": [],
      "authorship_tag": "ABX9TyPV8rlwcvlHRsC6c6YRUOFa",
      "include_colab_link": true
    },
    "kernelspec": {
      "name": "python3",
      "display_name": "Python 3"
    },
    "language_info": {
      "name": "python"
    }
  },
  "cells": [
    {
      "cell_type": "markdown",
      "metadata": {
        "id": "view-in-github",
        "colab_type": "text"
      },
      "source": [
        "<a href=\"https://colab.research.google.com/github/Muavia-Ateeq/computer_vision_assignment/blob/main/Assignment_1.ipynb\" target=\"_parent\"><img src=\"https://colab.research.google.com/assets/colab-badge.svg\" alt=\"Open In Colab\"/></a>"
      ]
    },
    {
      "cell_type": "code",
      "execution_count": 3,
      "metadata": {
        "id": "ZELr_tO1eGEM"
      },
      "outputs": [],
      "source": [
        "import cv2\n",
        "import numpy as np\n",
        "\n",
        "def split_price_tags(img_path,output_folder):\n",
        "  img = cv2.imread(img_path)\n",
        "  height , width , _ = img.shape\n",
        "  rows = 6\n",
        "  cols = 3\n",
        "  split_height  = np.ceil(height / 6).astype(int)\n",
        "  split_width = np.ceil(width /3).astype(int)\n",
        "  print(height , width, split_height,  split_width)\n",
        "  for row in range(rows):\n",
        "    for col in range(cols):\n",
        "      x1 = col * split_width\n",
        "      y1 = row * split_height\n",
        "      x2 = x1 + split_width\n",
        "      if(y1 + split_height) < height:\n",
        "        y2 = y1 + split_height + 5\n",
        "      else:\n",
        "        y2 = y1 + split_height\n",
        "\n",
        "      price_tag = img[y1:y2, x1:x2]\n",
        "      filename = f\"split_image_{row}_{col}.jpg\"\n",
        "      filepath = output_folder + filename\n",
        "      print(filepath)\n",
        "      cv2.imwrite(filepath, price_tag)\n",
        "\n",
        "  return\n",
        ""
      ]
    },
    {
      "cell_type": "code",
      "source": [
        "path = '/content/main_image.jpg'\n",
        "output_folder = '/content/15-12-2024- Assignment-2.png'"
      ],
      "metadata": {
        "id": "gyLVxPTgH-89"
      },
      "execution_count": 6,
      "outputs": []
    },
    {
      "cell_type": "code",
      "source": [
        "split_price_tags(path,output_folder)"
      ],
      "metadata": {
        "colab": {
          "base_uri": "https://localhost:8080/"
        },
        "id": "7H4LuobnIUli",
        "outputId": "82c575fe-cba4-42ad-ae9c-b7083ddf5129"
      },
      "execution_count": 5,
      "outputs": [
        {
          "output_type": "stream",
          "name": "stdout",
          "text": [
            "990 700 165 234\n",
            "/content/15-12-2024- Assignment-2.pngsplit_image_0_0.jpg\n",
            "/content/15-12-2024- Assignment-2.pngsplit_image_0_1.jpg\n",
            "/content/15-12-2024- Assignment-2.pngsplit_image_0_2.jpg\n",
            "/content/15-12-2024- Assignment-2.pngsplit_image_1_0.jpg\n",
            "/content/15-12-2024- Assignment-2.pngsplit_image_1_1.jpg\n",
            "/content/15-12-2024- Assignment-2.pngsplit_image_1_2.jpg\n",
            "/content/15-12-2024- Assignment-2.pngsplit_image_2_0.jpg\n",
            "/content/15-12-2024- Assignment-2.pngsplit_image_2_1.jpg\n",
            "/content/15-12-2024- Assignment-2.pngsplit_image_2_2.jpg\n",
            "/content/15-12-2024- Assignment-2.pngsplit_image_3_0.jpg\n",
            "/content/15-12-2024- Assignment-2.pngsplit_image_3_1.jpg\n",
            "/content/15-12-2024- Assignment-2.pngsplit_image_3_2.jpg\n",
            "/content/15-12-2024- Assignment-2.pngsplit_image_4_0.jpg\n",
            "/content/15-12-2024- Assignment-2.pngsplit_image_4_1.jpg\n",
            "/content/15-12-2024- Assignment-2.pngsplit_image_4_2.jpg\n",
            "/content/15-12-2024- Assignment-2.pngsplit_image_5_0.jpg\n",
            "/content/15-12-2024- Assignment-2.pngsplit_image_5_1.jpg\n",
            "/content/15-12-2024- Assignment-2.pngsplit_image_5_2.jpg\n"
          ]
        }
      ]
    }
  ]
}